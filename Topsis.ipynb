{
  "nbformat": 4,
  "nbformat_minor": 0,
  "metadata": {
    "colab": {
      "name": "Topsis.ipynb",
      "provenance": [],
      "authorship_tag": "ABX9TyMcEEX3c/fq0vZ05UpJdfHK",
      "include_colab_link": true
    },
    "kernelspec": {
      "name": "python3",
      "display_name": "Python 3"
    }
  },
  "cells": [
    {
      "cell_type": "markdown",
      "metadata": {
        "id": "view-in-github",
        "colab_type": "text"
      },
      "source": [
        "<a href=\"https://colab.research.google.com/github/Jigneshpawar/RRSMegaPR/blob/main/Topsis.ipynb\" target=\"_parent\"><img src=\"https://colab.research.google.com/assets/colab-badge.svg\" alt=\"Open In Colab\"/></a>"
      ]
    },
    {
      "cell_type": "code",
      "metadata": {
        "colab": {
          "base_uri": "https://localhost:8080/"
        },
        "id": "kOeZ4202O3h6",
        "outputId": "510550b6-3aa0-4453-859d-27ae7734d8b0"
      },
      "source": [
        "pip install topsispy"
      ],
      "execution_count": null,
      "outputs": [
        {
          "output_type": "stream",
          "text": [
            "Collecting topsispy\n",
            "  Downloading https://files.pythonhosted.org/packages/37/a0/87b62ff121075614584d9e78434ac2904e91f832b83118e5e2bf9d1f6867/topsispy-0.0.1-py3-none-any.whl\n",
            "Requirement already satisfied: numpy in /usr/local/lib/python3.6/dist-packages (from topsispy) (1.19.4)\n",
            "Installing collected packages: topsispy\n",
            "Successfully installed topsispy-0.0.1\n"
          ],
          "name": "stdout"
        }
      ]
    },
    {
      "cell_type": "markdown",
      "metadata": {
        "id": "UL6iK7J7WaLO"
      },
      "source": [
        "First the package is been installed "
      ]
    },
    {
      "cell_type": "code",
      "metadata": {
        "colab": {
          "base_uri": "https://localhost:8080/"
        },
        "id": "zUklE_4uWlng",
        "outputId": "9d98f8da-486c-4d39-fcba-78480f793a5e"
      },
      "source": [
        ">>> import topsispy as tp\r\n",
        ">>> a =[\r\n",
        "     [250, 16, 12, 5],\r\n",
        "     [200, 16, 8, 3],\r\n",
        "     [300, 32, 16, 4],\r\n",
        "     [275, 32, 8, 4],\r\n",
        "     [225, 16, 16, 2]\r\n",
        " ]\r\n",
        ">>> w = [0.25, 0.25, 0.25, 0.25]\r\n",
        ">>> sign = [-1, 1, 1, 1]\r\n",
        ">>> tp.topsis(a, w, sign)"
      ],
      "execution_count": null,
      "outputs": [
        {
          "output_type": "execute_result",
          "data": {
            "text/plain": [
              "(2, array([0.53427686, 0.30836777, 0.69163223, 0.53473658, 0.40104612]))"
            ]
          },
          "metadata": {
            "tags": []
          },
          "execution_count": 15
        }
      ]
    },
    {
      "cell_type": "markdown",
      "metadata": {
        "id": "fTFqY5MoWxke"
      },
      "source": [
        "Then the parameters and the data is been passed.. And we get a array showcasing the priorities of different dataset."
      ]
    },
    {
      "cell_type": "code",
      "metadata": {
        "colab": {
          "base_uri": "https://localhost:8080/"
        },
        "id": "q0WNz1ViYAkS",
        "outputId": "043b2416-3e76-4618-cdd3-d2cc78e9eede"
      },
      "source": [
        "#Code where the operations occur:-  \r\n",
        "\r\n",
        "import os\r\n",
        "import sys\r\n",
        "import numpy as np\r\n",
        "import pandas as pd\r\n",
        "\r\n",
        "\r\n",
        "def floater(a):  # .astype() can be used but is not reliable\r\n",
        "    b = []\r\n",
        "    for i in a:\r\n",
        "        try:\r\n",
        "            ix = []\r\n",
        "            for j in i:\r\n",
        "                ix.append(float(j))\r\n",
        "        except:\r\n",
        "            ix = float(i)\r\n",
        "            pass\r\n",
        "        b.append(ix)\r\n",
        "    b = np.array(b)\r\n",
        "    return b\r\n",
        "\r\n",
        "\r\n",
        "def normalize(matrix, r, n, m):\r\n",
        "    for j in range(m):\r\n",
        "        sq = np.sqrt(sum(matrix[:, j]**2))\r\n",
        "        for i in range(n):\r\n",
        "            r[i, j] = matrix[i, j]/sq\r\n",
        "    return r\r\n",
        "\r\n",
        "\r\n",
        "def weight_product(matrix, weight):\r\n",
        "    r = matrix*weight\r\n",
        "    return r\r\n",
        "\r\n",
        "\r\n",
        "def calc_ideal_best_worst(sign, matrix, n, m):\r\n",
        "    ideal_worst = []\r\n",
        "    ideal_best = []\r\n",
        "    for i in range(m):\r\n",
        "        if sign[i] == 1:\r\n",
        "            ideal_worst.append(min(matrix[:, i]))\r\n",
        "            ideal_best.append(max(matrix[:, i]))\r\n",
        "        else:\r\n",
        "            ideal_worst.append(max(matrix[:, i]))\r\n",
        "            ideal_best.append(min(matrix[:, i]))\r\n",
        "    return (ideal_worst, ideal_best)\r\n",
        "\r\n",
        "\r\n",
        "def euclidean_distance(matrix, ideal_worst, ideal_best, n, m):\r\n",
        "    diw = (matrix - ideal_worst)**2\r\n",
        "    dib = (matrix - ideal_best)**2\r\n",
        "    dw = []\r\n",
        "    db = []\r\n",
        "    for i in range(n):\r\n",
        "        dw.append(sum(diw[i, :])**0.5)\r\n",
        "        db.append(sum(dib[i, :])**0.5)\r\n",
        "    dw = np.array(dw)\r\n",
        "    db = np.array(db)\r\n",
        "    return (dw, db)\r\n",
        "\r\n",
        "\r\n",
        "def performance_score(distance_best, distance_worst, n, m):\r\n",
        "    score = []\r\n",
        "    score = distance_worst/(distance_best + distance_worst)\r\n",
        "    return score\r\n",
        "\r\n",
        "\r\n",
        "def topsis(a, w, sign):\r\n",
        "    a = floater(a)\r\n",
        "  \r\n",
        "    n = len(a)\r\n",
        "    \r\n",
        "    \r\n",
        "    m = len(a[0])\r\n",
        "    \r\n",
        "    r = np.empty((n, m), np.float64)\r\n",
        "    r = normalize(a, r, n, m)\r\n",
        "    t = weight_product(r, w)\r\n",
        "    (ideal_worst, ideal_best) = calc_ideal_best_worst(sign, t, n, m)\r\n",
        "    (distance_worst, distance_best) = euclidean_distance(\r\n",
        "        t, ideal_worst, ideal_best, n, m)\r\n",
        "    score = performance_score(distance_best, distance_worst, n, m)\r\n",
        "    return (np.argmax(score), score)\r\n",
        "    # returns a tupple with index of best data point as first element and score array(numpy) as the other\r\n",
        "\r\n",
        "\r\n",
        "def cli_output():\r\n",
        "    if len(sys.argv) != 4:\r\n",
        "        print('Wrong Number of args')\r\n",
        "        print('Input should be like - \\n '\r\n",
        "              'python [package name] [path of csv as string] [list of weights as string] [list of sign as string]')\r\n",
        "    else:\r\n",
        "        file_path = sys.argv[1]\r\n",
        "        try:\r\n",
        "            if os.path.exists(file_path):\r\n",
        "                print('Path exist')\r\n",
        "        except OSError as err:\r\n",
        "            print(err.reason)\r\n",
        "            exit(1)\r\n",
        "\r\n",
        "        df = pd.read_csv(file_path, header=None)\r\n",
        "        a = df.values\r\n",
        "        arg2 = sys.argv[2]\r\n",
        "        arg3 = sys.argv[3]\r\n",
        "        w = arg2.strip('][').split(', ')\r\n",
        "        w = list(map(float, w))\r\n",
        "        s = arg3.strip('][').split(', ')\r\n",
        "        s = list(map(int, s))\r\n",
        "        res = topsis(a, w, s)\r\n",
        "        print(res)\r\n",
        "\r\n",
        "\r\n",
        "if __name__ == '__main__':\r\n",
        "    cli_output()"
      ],
      "execution_count": null,
      "outputs": [
        {
          "output_type": "stream",
          "text": [
            "Wrong Number of args\n",
            "Input should be like - \n",
            " python [package name] [path of csv as string] [list of weights as string] [list of sign as string]\n"
          ],
          "name": "stdout"
        }
      ]
    }
  ]
}